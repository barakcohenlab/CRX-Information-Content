{
 "cells": [
  {
   "cell_type": "markdown",
   "metadata": {},
   "source": [
    "# QC and processing raw barcode counts for Library 2 with the Rho promoter\n",
    "This notebook takes raw barcode counts and processes it into activity scores for each replicate. Then, we do statistics to determine which sequences are significantly different from the Rho promoter alone. There are three biological replicates of RNA and one DNA sample from the input plasmid pool. This notebook should be nearly identical to notebook 01 for Library 1 with Rho."
   ]
  },
  {
   "cell_type": "code",
   "execution_count": 1,
   "metadata": {},
   "outputs": [],
   "source": [
    "import os\n",
    "import sys\n",
    "\n",
    "import matplotlib.pyplot as plt\n",
    "import numpy as np\n",
    "import pandas as pd\n",
    "from scipy import stats\n",
    "\n",
    "sys.path.insert(0, \"utils\")\n",
    "from utils import modeling, plot_utils, quality_control"
   ]
  },
  {
   "cell_type": "code",
   "execution_count": 2,
   "metadata": {},
   "outputs": [],
   "source": [
    "plot_utils.set_manuscript_params()"
   ]
  },
  {
   "cell_type": "markdown",
   "metadata": {},
   "source": [
    "## Load in data"
   ]
  },
  {
   "cell_type": "code",
   "execution_count": 3,
   "metadata": {},
   "outputs": [
    {
     "data": {
      "text/html": [
       "<div>\n",
       "<style scoped>\n",
       "    .dataframe tbody tr th:only-of-type {\n",
       "        vertical-align: middle;\n",
       "    }\n",
       "\n",
       "    .dataframe tbody tr th {\n",
       "        vertical-align: top;\n",
       "    }\n",
       "\n",
       "    .dataframe thead th {\n",
       "        text-align: right;\n",
       "    }\n",
       "</style>\n",
       "<table border=\"1\" class=\"dataframe\">\n",
       "  <thead>\n",
       "    <tr style=\"text-align: right;\">\n",
       "      <th></th>\n",
       "      <th>label</th>\n",
       "      <th>DNA</th>\n",
       "      <th>RNA1</th>\n",
       "      <th>RNA2</th>\n",
       "      <th>RNA3</th>\n",
       "    </tr>\n",
       "    <tr>\n",
       "      <th>barcode</th>\n",
       "      <th></th>\n",
       "      <th></th>\n",
       "      <th></th>\n",
       "      <th></th>\n",
       "      <th></th>\n",
       "    </tr>\n",
       "  </thead>\n",
       "  <tbody>\n",
       "    <tr>\n",
       "      <th>AACAACAAG</th>\n",
       "      <td>chr7-141291911-141292075_UPPP_MUT-allCrxSites</td>\n",
       "      <td>132</td>\n",
       "      <td>0</td>\n",
       "      <td>1</td>\n",
       "      <td>1</td>\n",
       "    </tr>\n",
       "    <tr>\n",
       "      <th>AACAACGTT</th>\n",
       "      <td>chr19-16380352-16380516_CPPN_MUT-allCrxSites</td>\n",
       "      <td>1779</td>\n",
       "      <td>36</td>\n",
       "      <td>17</td>\n",
       "      <td>46</td>\n",
       "    </tr>\n",
       "    <tr>\n",
       "      <th>AACAACTAC</th>\n",
       "      <td>chr1-44147572-44147736_UPPP_MUT-allCrxSites</td>\n",
       "      <td>2928</td>\n",
       "      <td>433</td>\n",
       "      <td>802</td>\n",
       "      <td>510</td>\n",
       "    </tr>\n",
       "    <tr>\n",
       "      <th>AACAACTCG</th>\n",
       "      <td>chr12-116230818-116230982_CPPE_WT</td>\n",
       "      <td>2822</td>\n",
       "      <td>3043</td>\n",
       "      <td>2967</td>\n",
       "      <td>3013</td>\n",
       "    </tr>\n",
       "    <tr>\n",
       "      <th>AACAACTGT</th>\n",
       "      <td>chr5-65391346-65391510_CPPP_MUT-allCrxSites</td>\n",
       "      <td>1810</td>\n",
       "      <td>1572</td>\n",
       "      <td>2281</td>\n",
       "      <td>1559</td>\n",
       "    </tr>\n",
       "    <tr>\n",
       "      <th>AACAAGCTT</th>\n",
       "      <td>chr15-97965790-97965954_CPPP_MUT-allCrxSites</td>\n",
       "      <td>1047</td>\n",
       "      <td>1259</td>\n",
       "      <td>1531</td>\n",
       "      <td>1310</td>\n",
       "    </tr>\n",
       "    <tr>\n",
       "      <th>AACAAGGCG</th>\n",
       "      <td>chr1-59164069-59164233_CPPE_WT</td>\n",
       "      <td>4966</td>\n",
       "      <td>17124</td>\n",
       "      <td>17046</td>\n",
       "      <td>14499</td>\n",
       "    </tr>\n",
       "    <tr>\n",
       "      <th>AACAAGTAG</th>\n",
       "      <td>chr2-158513919-158514083_CPPE_WT</td>\n",
       "      <td>2690</td>\n",
       "      <td>10607</td>\n",
       "      <td>12288</td>\n",
       "      <td>9783</td>\n",
       "    </tr>\n",
       "    <tr>\n",
       "      <th>AACAAGTCT</th>\n",
       "      <td>chr11-58097684-58097848_UPCP_MUT-allCrxSites</td>\n",
       "      <td>4049</td>\n",
       "      <td>1589</td>\n",
       "      <td>2030</td>\n",
       "      <td>1541</td>\n",
       "    </tr>\n",
       "    <tr>\n",
       "      <th>AACAATAGG</th>\n",
       "      <td>chr16-33682556-33682720_CPNE_MUT-allCrxSites</td>\n",
       "      <td>2623</td>\n",
       "      <td>2510</td>\n",
       "      <td>2215</td>\n",
       "      <td>2097</td>\n",
       "    </tr>\n",
       "    <tr>\n",
       "      <th>AACAATCAC</th>\n",
       "      <td>chr8-120493050-120493214_CSRE_MUT-shape</td>\n",
       "      <td>1105</td>\n",
       "      <td>23</td>\n",
       "      <td>14</td>\n",
       "      <td>137</td>\n",
       "    </tr>\n",
       "    <tr>\n",
       "      <th>AACAATGAG</th>\n",
       "      <td>chr1-162570536-162570700_CSPP_MUT-shape</td>\n",
       "      <td>564</td>\n",
       "      <td>217</td>\n",
       "      <td>563</td>\n",
       "      <td>371</td>\n",
       "    </tr>\n",
       "    <tr>\n",
       "      <th>AACAATGCT</th>\n",
       "      <td>chr12-86553474-86553638_CPRN_WT</td>\n",
       "      <td>1139</td>\n",
       "      <td>176</td>\n",
       "      <td>72</td>\n",
       "      <td>87</td>\n",
       "    </tr>\n",
       "    <tr>\n",
       "      <th>AACAATGTC</th>\n",
       "      <td>chr4-59668207-59668371_CPPE_MUT-allCrxSites</td>\n",
       "      <td>1168</td>\n",
       "      <td>814</td>\n",
       "      <td>1323</td>\n",
       "      <td>1242</td>\n",
       "    </tr>\n",
       "    <tr>\n",
       "      <th>AACAATTCA</th>\n",
       "      <td>chr1-111864309-111864473_UPCQ_MUT-allCrxSites</td>\n",
       "      <td>2963</td>\n",
       "      <td>2004</td>\n",
       "      <td>2144</td>\n",
       "      <td>2143</td>\n",
       "    </tr>\n",
       "    <tr>\n",
       "      <th>AACACAGCC</th>\n",
       "      <td>chr9-27191668-27191832_CPPE_WT</td>\n",
       "      <td>1589</td>\n",
       "      <td>1</td>\n",
       "      <td>1</td>\n",
       "      <td>1</td>\n",
       "    </tr>\n",
       "    <tr>\n",
       "      <th>AACACAGGG</th>\n",
       "      <td>chr13-41249684-41249848_CSPP_scrambled</td>\n",
       "      <td>580</td>\n",
       "      <td>47</td>\n",
       "      <td>118</td>\n",
       "      <td>53</td>\n",
       "    </tr>\n",
       "    <tr>\n",
       "      <th>AACACATAC</th>\n",
       "      <td>chr9-59660499-59660663_CPPP_WT</td>\n",
       "      <td>5276</td>\n",
       "      <td>48243</td>\n",
       "      <td>41743</td>\n",
       "      <td>32514</td>\n",
       "    </tr>\n",
       "    <tr>\n",
       "      <th>AACACATGT</th>\n",
       "      <td>chr19-3321456-3321620_UPPE_WT</td>\n",
       "      <td>1947</td>\n",
       "      <td>1397</td>\n",
       "      <td>1485</td>\n",
       "      <td>1005</td>\n",
       "    </tr>\n",
       "    <tr>\n",
       "      <th>AACACCAAT</th>\n",
       "      <td>chr4-119142639-119142803_UPPE_WT</td>\n",
       "      <td>3350</td>\n",
       "      <td>588</td>\n",
       "      <td>1101</td>\n",
       "      <td>779</td>\n",
       "    </tr>\n",
       "  </tbody>\n",
       "</table>\n",
       "</div>"
      ],
      "text/plain": [
       "                                                   label   DNA   RNA1   RNA2  \\\n",
       "barcode                                                                        \n",
       "AACAACAAG  chr7-141291911-141292075_UPPP_MUT-allCrxSites   132      0      1   \n",
       "AACAACGTT   chr19-16380352-16380516_CPPN_MUT-allCrxSites  1779     36     17   \n",
       "AACAACTAC    chr1-44147572-44147736_UPPP_MUT-allCrxSites  2928    433    802   \n",
       "AACAACTCG              chr12-116230818-116230982_CPPE_WT  2822   3043   2967   \n",
       "AACAACTGT    chr5-65391346-65391510_CPPP_MUT-allCrxSites  1810   1572   2281   \n",
       "AACAAGCTT   chr15-97965790-97965954_CPPP_MUT-allCrxSites  1047   1259   1531   \n",
       "AACAAGGCG                 chr1-59164069-59164233_CPPE_WT  4966  17124  17046   \n",
       "AACAAGTAG               chr2-158513919-158514083_CPPE_WT  2690  10607  12288   \n",
       "AACAAGTCT   chr11-58097684-58097848_UPCP_MUT-allCrxSites  4049   1589   2030   \n",
       "AACAATAGG   chr16-33682556-33682720_CPNE_MUT-allCrxSites  2623   2510   2215   \n",
       "AACAATCAC        chr8-120493050-120493214_CSRE_MUT-shape  1105     23     14   \n",
       "AACAATGAG        chr1-162570536-162570700_CSPP_MUT-shape   564    217    563   \n",
       "AACAATGCT                chr12-86553474-86553638_CPRN_WT  1139    176     72   \n",
       "AACAATGTC    chr4-59668207-59668371_CPPE_MUT-allCrxSites  1168    814   1323   \n",
       "AACAATTCA  chr1-111864309-111864473_UPCQ_MUT-allCrxSites  2963   2004   2144   \n",
       "AACACAGCC                 chr9-27191668-27191832_CPPE_WT  1589      1      1   \n",
       "AACACAGGG         chr13-41249684-41249848_CSPP_scrambled   580     47    118   \n",
       "AACACATAC                 chr9-59660499-59660663_CPPP_WT  5276  48243  41743   \n",
       "AACACATGT                  chr19-3321456-3321620_UPPE_WT  1947   1397   1485   \n",
       "AACACCAAT               chr4-119142639-119142803_UPPE_WT  3350    588   1101   \n",
       "\n",
       "            RNA3  \n",
       "barcode           \n",
       "AACAACAAG      1  \n",
       "AACAACGTT     46  \n",
       "AACAACTAC    510  \n",
       "AACAACTCG   3013  \n",
       "AACAACTGT   1559  \n",
       "AACAAGCTT   1310  \n",
       "AACAAGGCG  14499  \n",
       "AACAAGTAG   9783  \n",
       "AACAAGTCT   1541  \n",
       "AACAATAGG   2097  \n",
       "AACAATCAC    137  \n",
       "AACAATGAG    371  \n",
       "AACAATGCT     87  \n",
       "AACAATGTC   1242  \n",
       "AACAATTCA   2143  \n",
       "AACACAGCC      1  \n",
       "AACACAGGG     53  \n",
       "AACACATAC  32514  \n",
       "AACACATGT   1005  \n",
       "AACACCAAT    779  "
      ]
     },
     "execution_count": 3,
     "metadata": {},
     "output_type": "execute_result"
    }
   ],
   "source": [
    "barcode_count_dir = os.path.join(\"Data\", \"Rhodopsin\")\n",
    "barcode_count_files = [\"library2Plasmid.counts\", \"library2Rna1.counts\",\n",
    "                     \"library2Rna2.counts\", \"library2Rna3.counts\"]\n",
    "barcode_count_files = [os.path.join(barcode_count_dir, i) for i in barcode_count_files]\n",
    "\n",
    "# Stuff for downstream functions\n",
    "sample_labels = np.array([\"DNA\", \"RNA1\", \"RNA2\", \"RNA3\"])\n",
    "sample_rna_mask = np.array([False, True, True, True])\n",
    "rna_labels = sample_labels[sample_rna_mask]\n",
    "dna_labels = sample_labels[np.logical_not(sample_rna_mask)]\n",
    "n_samples = len(sample_labels)\n",
    "n_rna_samples = len(rna_labels)\n",
    "n_dna_samples = len(dna_labels)\n",
    "\n",
    "n_barcodes_per_sequence = 3\n",
    "results_dir = barcode_count_dir\n",
    "output_prefix = os.path.join(results_dir, \"library2\")\n",
    "\n",
    "all_sample_counts_df = quality_control.read_bc_count_files(barcode_count_files, sample_labels)\n",
    "all_sample_counts_df.to_csv(f\"{output_prefix}RawBarcodeCounts.txt\", sep=\"\\t\", na_rep=\"NaN\")\n",
    "all_sample_counts_df.head(20)"
   ]
  },
  {
   "cell_type": "markdown",
   "metadata": {},
   "source": [
    "## Threshold barcode counts, assess reproducibility\n",
    "Set barcodes that are below the DNA cutoff to an NaN (because they are missing from the input plasmid pool) and those that are below any of the RNA cutoffs to zero in all replicates."
   ]
  },
  {
   "cell_type": "code",
   "execution_count": 4,
   "metadata": {},
   "outputs": [
    {
     "name": "stdout",
     "output_type": "stream",
     "text": [
      "Barcodes missing in DNA:\n",
      "Sample DNA: 277 barcodes\n",
      "277 barcodes are missing from more than 0 DNA samples.\n",
      "Barcodes off in RNA:\n",
      "Sample RNA1: 875 barcodes\n",
      "Sample RNA2: 678 barcodes\n",
      "Sample RNA3: 774 barcodes\n",
      "1180 barcodes are off in more than 0 RNA samples.\n",
      "There are a total of  157.724 million barcode counts.\n"
     ]
    },
    {
     "data": {
      "image/png": "[encoded data removed]",
      "text/plain": [
       "<Figure size 288x288 with 1 Axes>"
      ]
     },
     "metadata": {
      "needs_background": "light"
     },
     "output_type": "display_data"
    },
    {
     "data": {
      "image/png": "[encoded data removed]",
      "text/plain": [
       "<Figure size 288x288 with 1 Axes>"
      ]
     },
     "metadata": {
      "needs_background": "light"
     },
     "output_type": "display_data"
    },
    {
     "data": {
      "image/png": "[encoded data removed]",
      "text/plain": [
       "<Figure size 864x864 with 9 Axes>"
      ]
     },
     "metadata": {
      "needs_background": "light"
     },
     "output_type": "display_data"
    }
   ],
   "source": [
    "cutoffs = [10, 5, 5, 5]\n",
    "threshold_sample_counts_df = quality_control.filter_low_counts(all_sample_counts_df, sample_labels, cutoffs,\n",
    "                                                               dna_labels=dna_labels, bc_per_seq=n_barcodes_per_sequence)\n",
    "fig = quality_control.reproducibility_plots(threshold_sample_counts_df, rna_labels, \"CPM\", big_dimensions=True)\n",
    "plot_utils.save_fig(fig, f\"{output_prefix}Reproducibility\", timestamp=False)"
   ]
  },
  {
   "cell_type": "markdown",
   "metadata": {},
   "source": [
    "## Normalize RNA barcode counts by plasmid barcode counts"
   ]
  },
  {
   "cell_type": "code",
   "execution_count": 5,
   "metadata": {},
   "outputs": [],
   "source": [
    "normalized_sample_counts_df = quality_control.normalize_rna_by_dna(threshold_sample_counts_df, rna_labels, dna_labels)\n",
    "# Drop DNA\n",
    "barcode_sample_counts_df = normalized_sample_counts_df.drop(columns=dna_labels)"
   ]
  },
  {
   "cell_type": "markdown",
   "metadata": {},
   "source": [
    "## Compute expression across replicates"
   ]
  },
  {
   "cell_type": "code",
   "execution_count": 6,
   "metadata": {},
   "outputs": [],
   "source": [
    "activity_replicate_df = quality_control.average_barcodes(barcode_sample_counts_df)\n",
    "activity_replicate_df.to_csv(f\"{output_prefix}ReplicateExpression.txt\", sep=\"\\t\", na_rep=\"NaN\")"
   ]
  },
  {
   "cell_type": "markdown",
   "metadata": {},
   "source": [
    "## Normalize to basal, average across replicates, do statistics"
   ]
  },
  {
   "cell_type": "code",
   "execution_count": 7,
   "metadata": {},
   "outputs": [
    {
     "name": "stderr",
     "output_type": "stream",
     "text": [
      "/home/ryan/Documents/DBBS/CohenLab/Manuscripts/CRX-Information-Content/utils/quality_control.py:408: RuntimeWarning: invalid value encountered in double_scalars\n",
      "  cov = std / mean\n"
     ]
    }
   ],
   "source": [
    "sequence_expression_df = quality_control.basal_normalize(activity_replicate_df, \"BASAL\")\n",
    "# Compare vs. basal\n",
    "sequence_expression_df[\"expression_pvalue\"] = quality_control.log_ttest_vs_basal(activity_replicate_df, \"BASAL\")\n",
    "sequence_expression_df[\"expression_qvalue\"] = modeling.fdr(sequence_expression_df[\"expression_pvalue\"])\n",
    "\n",
    "# Save to file\n",
    "sequence_expression_df.to_csv(f\"{output_prefix}TotalExpressionSummary.txt\", sep=\"\\t\", na_rep=\"NaN\")"
   ]
  }
 ],
 "metadata": {
  "kernelspec": {
   "display_name": "Python 3",
   "language": "python",
   "name": "python3"
  },
  "language_info": {
   "codemirror_mode": {
    "name": "ipython",
    "version": 3
   },
   "file_extension": ".py",
   "mimetype": "text/x-python",
   "name": "python",
   "nbconvert_exporter": "python",
   "pygments_lexer": "ipython3",
   "version": "3.6.5"
  }
 },
 "nbformat": 4,
 "nbformat_minor": 2
}
