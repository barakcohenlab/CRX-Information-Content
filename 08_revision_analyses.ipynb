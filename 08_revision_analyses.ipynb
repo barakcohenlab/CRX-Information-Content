{
 "cells": [
  {
   "cell_type": "markdown",
   "metadata": {},
   "source": [
    "# Additional analyses for manuscript revisions\n",
    "This notebook contains additional analyses performed for a revised version of the manuscript. In particular, two analyses are performed:\n",
    "1. Determining whether there is a bias in the linear arrangement of motifs in strong enhancers and silencers.\n",
    "2. Associating differentially expressed genes in Crx-/- vs. wildtype P21 retinas with the activity of nearby library members."
   ]
  },
  {
   "cell_type": "code",
   "execution_count": 1,
   "metadata": {},
   "outputs": [],
   "source": [
    "import os\n",
    "import sys\n",
    "import itertools\n",
    "\n",
    "import numpy as np\n",
    "from scipy import stats\n",
    "import pandas as pd\n",
    "import matplotlib.pyplot as plt\n",
    "from mpl_toolkits.axes_grid1.axes_divider import make_axes_locatable\n",
    "from pybedtools import BedTool\n",
    "from IPython.display import display\n",
    "\n",
    "sys.path.insert(0, \"utils\")\n",
    "import fasta_seq_parse_manip, modeling, plot_utils, predicted_occupancy, sequence_annotation_processing\n",
    "\n",
    "data_dir = \"Data\"\n",
    "downloads_dir = os.path.join(data_dir, \"Downloaded\")\n",
    "figures_dir = \"Figures\"\n",
    "all_seqs = fasta_seq_parse_manip.read_fasta(os.path.join(data_dir, \"library1And2.fasta\"))\n",
    "# Drop scrambled sequences\n",
    "all_seqs = all_seqs[~(all_seqs.index.str.contains(\"scr\"))]"
   ]
  },
  {
   "cell_type": "code",
   "execution_count": 2,
   "metadata": {},
   "outputs": [],
   "source": [
    "plot_utils.set_manuscript_params()"
   ]
  },
  {
   "cell_type": "markdown",
   "metadata": {},
   "source": [
    "Load in MPRA data and other metrics."
   ]
  },
  {
   "cell_type": "code",
   "execution_count": 3,
   "metadata": {},
   "outputs": [],
   "source": [
    "# Mapping activity class to a color\n",
    "color_mapping = {\n",
    "    \"Silencer\": \"#e31a1c\",\n",
    "    \"Inactive\": \"#33a02c\",\n",
    "    \"Weak enhancer\": \"#a6cee3\",\n",
    "    \"Strong enhancer\": \"#1f78b4\",\n",
    "    np.nan: \"grey\"\n",
    "}\n",
    "color_mapping = pd.Series(color_mapping)\n",
    "\n",
    "# Sort order for the four activity bins\n",
    "class_sort_order = [\"Silencer\", \"Inactive\", \"Weak enhancer\", \"Strong enhancer\"]\n",
    "\n",
    "# MPRA measurements\n",
    "activity_df = pd.read_csv(os.path.join(data_dir, \"wildtypeMutantPolylinkerActivityAnnotated.txt\"), sep=\"\\t\", index_col=0)\n",
    "activity_df[\"group_name_WT\"] = sequence_annotation_processing.to_categorical(activity_df[\"group_name_WT\"])\n",
    "activity_df[\"group_name_MUT\"] = sequence_annotation_processing.to_categorical(activity_df[\"group_name_MUT\"])\n",
    "# Only keep sequences that were measured in WT form\n",
    "activity_df = activity_df[activity_df[\"expression_log2_WT\"].notna()]\n",
    "\n",
    "# TF occupancy metrics, also separate out the WT sequences\n",
    "occupancy_df = pd.read_csv(os.path.join(data_dir, \"predictedOccupancies.txt\"), sep=\"\\t\", index_col=0)\n",
    "wt_occupancy_df = occupancy_df[occupancy_df.index.str.contains(\"WT$\")].copy()\n",
    "wt_occupancy_df = sequence_annotation_processing.remove_mutations_from_seq_id(wt_occupancy_df)\n",
    "wt_occupancy_df = wt_occupancy_df.loc[activity_df.index]\n",
    "n_tfs = len(wt_occupancy_df.columns)\n",
    "\n",
    "# PWMs\n",
    "pwms = predicted_occupancy.read_pwm_files(os.path.join(\"Data\", \"Downloaded\", \"Pwm\", \"photoreceptorAndEnrichedMotifs.meme\"))\n",
    "pwms = pwms.rename(lambda x: x.split(\"_\")[0])\n",
    "motif_len = pwms.apply(len)\n",
    "mu = 9\n",
    "ewms = pwms.apply(predicted_occupancy.ewm_from_letter_prob).apply(predicted_occupancy.ewm_to_dict)\n",
    "\n",
    "# WT sequences measured in the assay\n",
    "wt_seqs = all_seqs[all_seqs.index.str.contains(\"WT\")].copy()\n",
    "wt_seqs = sequence_annotation_processing.remove_mutations_from_seq_id(wt_seqs)\n",
    "wt_seqs = wt_seqs[activity_df.index]"
   ]
  },
  {
   "cell_type": "markdown",
   "metadata": {},
   "source": [
    "## Analysis for linear arrangement bias\n",
    "For each TF besides CRX, identify strong enhancers with exactly one position occupied by CRX and exactly one position occupied by the other TF. Count the number of times the occupied position is 5' (left) or 3' (right) of the CRX position. Because all sequences are centered on CRX motifs in a forward orientation, we do not need to consider orientation."
   ]
  },
  {
   "cell_type": "code",
   "execution_count": 4,
   "metadata": {},
   "outputs": [
    {
     "data": {
      "text/html": [
       "<div>\n",
       "<style scoped>\n",
       "    .dataframe tbody tr th:only-of-type {\n",
       "        vertical-align: middle;\n",
       "    }\n",
       "\n",
       "    .dataframe tbody tr th {\n",
       "        vertical-align: top;\n",
       "    }\n",
       "\n",
       "    .dataframe thead th {\n",
       "        text-align: right;\n",
       "    }\n",
       "</style>\n",
       "<table border=\"1\" class=\"dataframe\">\n",
       "  <thead>\n",
       "    <tr style=\"text-align: right;\">\n",
       "      <th></th>\n",
       "      <th>left</th>\n",
       "      <th>right</th>\n",
       "      <th>binom_pval</th>\n",
       "      <th>binom_qval</th>\n",
       "    </tr>\n",
       "  </thead>\n",
       "  <tbody>\n",
       "    <tr>\n",
       "      <th>GFI1</th>\n",
       "      <td>8</td>\n",
       "      <td>10</td>\n",
       "      <td>0.814529</td>\n",
       "      <td>0.814529</td>\n",
       "    </tr>\n",
       "    <tr>\n",
       "      <th>MAZ</th>\n",
       "      <td>13</td>\n",
       "      <td>25</td>\n",
       "      <td>0.072951</td>\n",
       "      <td>0.255330</td>\n",
       "    </tr>\n",
       "    <tr>\n",
       "      <th>MEF2D</th>\n",
       "      <td>7</td>\n",
       "      <td>3</td>\n",
       "      <td>0.343750</td>\n",
       "      <td>0.802083</td>\n",
       "    </tr>\n",
       "    <tr>\n",
       "      <th>NDF1</th>\n",
       "      <td>17</td>\n",
       "      <td>22</td>\n",
       "      <td>0.522397</td>\n",
       "      <td>0.609464</td>\n",
       "    </tr>\n",
       "    <tr>\n",
       "      <th>NRL</th>\n",
       "      <td>14</td>\n",
       "      <td>31</td>\n",
       "      <td>0.016094</td>\n",
       "      <td>0.112661</td>\n",
       "    </tr>\n",
       "    <tr>\n",
       "      <th>RORB</th>\n",
       "      <td>14</td>\n",
       "      <td>20</td>\n",
       "      <td>0.391528</td>\n",
       "      <td>0.548140</td>\n",
       "    </tr>\n",
       "    <tr>\n",
       "      <th>RAX</th>\n",
       "      <td>8</td>\n",
       "      <td>4</td>\n",
       "      <td>0.387695</td>\n",
       "      <td>0.678467</td>\n",
       "    </tr>\n",
       "  </tbody>\n",
       "</table>\n",
       "</div>"
      ],
      "text/plain": [
       "       left  right  binom_pval  binom_qval\n",
       "GFI1      8     10    0.814529    0.814529\n",
       "MAZ      13     25    0.072951    0.255330\n",
       "MEF2D     7      3    0.343750    0.802083\n",
       "NDF1     17     22    0.522397    0.609464\n",
       "NRL      14     31    0.016094    0.112661\n",
       "RORB     14     20    0.391528    0.548140\n",
       "RAX       8      4    0.387695    0.678467"
      ]
     },
     "metadata": {},
     "output_type": "display_data"
    }
   ],
   "source": [
    "occupied_cutoff = 0.5\n",
    "strong_mask = activity_df[\"group_name_WT\"].str.contains(\"Strong\")\n",
    "strong_mask = strong_mask & strong_mask.notna()\n",
    "# {tf name: [number of times TF is 5' of central CRX, number of times 3']}\n",
    "tf_order_counts = {}\n",
    "\n",
    "for tf in ewms.index.drop(\"CRX\"):\n",
    "    left_counts = right_counts = 0\n",
    "    # Get strong enhancers with a motif for this TF\n",
    "    has_tf_mask = (wt_occupancy_df[tf] > occupied_cutoff) & strong_mask\n",
    "    has_tf_seqs = wt_seqs[has_tf_mask]\n",
    "    # Get the predicted occupancy landscape only for CRX and the other TF\n",
    "    for seq in has_tf_seqs:\n",
    "        occupancy_landscape = predicted_occupancy.total_landscape(seq, ewms[[\"CRX\", tf]], mu) > occupied_cutoff\n",
    "        # Only consider the sequence if there is exactly one CRX and exactly one of the other TF\n",
    "        fwd_counts = occupancy_landscape[tf + \"_F\"].sum()\n",
    "        rev_counts = occupancy_landscape[tf + \"_R\"].sum()\n",
    "        if (occupancy_landscape[\"CRX_F\"].sum() == 1) and (occupancy_landscape[\"CRX_R\"].sum() == 0) and (fwd_counts + rev_counts == 1):\n",
    "            # By construction, the motif will only be in the F or R column\n",
    "            if fwd_counts == 1:\n",
    "                col = occupancy_landscape[tf + \"_F\"]\n",
    "            else:\n",
    "                col = occupancy_landscape[tf + \"_R\"]\n",
    "            \n",
    "            tf_start_pos = col[col].index[0]\n",
    "            # CRX start position should always be the same, but just in case it's not do this\n",
    "            crx_occ = occupancy_landscape[\"CRX_F\"]\n",
    "            crx_start_pos = crx_occ[crx_occ].index[0]\n",
    "            if tf_start_pos < crx_start_pos:\n",
    "                left_counts += 1\n",
    "            elif tf_start_pos > crx_start_pos:\n",
    "                right_counts += 1\n",
    "            # else they start at the same position, ignore it\n",
    "            \n",
    "    tf_order_counts[tf] = [left_counts, right_counts]\n",
    "    \n",
    "tf_order_counts = pd.DataFrame.from_dict(tf_order_counts, orient=\"index\", columns=[\"left\", \"right\"])\n",
    "tf_order_counts[\"binom_pval\"] = tf_order_counts.apply(stats.binom_test, axis=1)\n",
    "tf_order_counts[\"binom_qval\"] = modeling.fdr(tf_order_counts[\"binom_pval\"])\n",
    "display(tf_order_counts)"
   ]
  },
  {
   "cell_type": "markdown",
   "metadata": {},
   "source": [
    "Now do the same analyses as above for silencers with NRL. Then create a contingency table to determine whether the left/right positioning of NRL motifs is independent of whether a sequence is a strong enhancer or silencer."
   ]
  },
  {
   "cell_type": "code",
   "execution_count": 5,
   "metadata": {},
   "outputs": [
    {
     "data": {
      "text/html": [
       "<div>\n",
       "<style scoped>\n",
       "    .dataframe tbody tr th:only-of-type {\n",
       "        vertical-align: middle;\n",
       "    }\n",
       "\n",
       "    .dataframe tbody tr th {\n",
       "        vertical-align: top;\n",
       "    }\n",
       "\n",
       "    .dataframe thead th {\n",
       "        text-align: right;\n",
       "    }\n",
       "</style>\n",
       "<table border=\"1\" class=\"dataframe\">\n",
       "  <thead>\n",
       "    <tr style=\"text-align: right;\">\n",
       "      <th></th>\n",
       "      <th>left</th>\n",
       "      <th>right</th>\n",
       "    </tr>\n",
       "  </thead>\n",
       "  <tbody>\n",
       "    <tr>\n",
       "      <th>Silencer</th>\n",
       "      <td>6</td>\n",
       "      <td>5</td>\n",
       "    </tr>\n",
       "    <tr>\n",
       "      <th>Strong enhancer</th>\n",
       "      <td>14</td>\n",
       "      <td>31</td>\n",
       "    </tr>\n",
       "  </tbody>\n",
       "</table>\n",
       "</div>"
      ],
      "text/plain": [
       "                 left  right\n",
       "Silencer            6      5\n",
       "Strong enhancer    14     31"
      ]
     },
     "metadata": {},
     "output_type": "display_data"
    },
    {
     "name": "stdout",
     "output_type": "stream",
     "text": [
      "The linear arrangement of CRX-NRL motifs is independent of whether a sequence is a strong enhancer or silencer, Fisher's exact test p=0.17, odds ratio=2.7\n"
     ]
    }
   ],
   "source": [
    "silencer_mask = activity_df[\"group_name_WT\"].str.contains(\"Silencer\")\n",
    "silencer_mask = silencer_mask & silencer_mask.notna()\n",
    "has_nrl_mask = (wt_occupancy_df[\"NRL\"] > occupied_cutoff) & silencer_mask\n",
    "has_nrl_seqs = wt_seqs[has_nrl_mask]\n",
    "\n",
    "silencer_left_counts = silencer_right_counts = 0\n",
    "for seq in has_nrl_seqs:\n",
    "    occupancy_landscape = predicted_occupancy.total_landscape(seq, ewms[[\"CRX\", \"NRL\"]], mu) > occupied_cutoff\n",
    "    # Only consider the sequence if there is exactly one CRX and exactly one of the other TF\n",
    "    fwd_counts = occupancy_landscape[\"NRL_F\"].sum()\n",
    "    rev_counts = occupancy_landscape[\"NRL_R\"].sum()\n",
    "    if (occupancy_landscape[\"CRX_F\"].sum() == 1) & (occupancy_landscape[\"CRX_R\"].sum() == 0) & (fwd_counts + rev_counts == 1):\n",
    "        # Samw as above\n",
    "        if fwd_counts == 1:\n",
    "            col = occupancy_landscape[\"NRL_F\"]\n",
    "        else:\n",
    "            col = occupancy_landscape[\"NRL_R\"]\n",
    "\n",
    "        tf_start_pos = col[col].index[0]\n",
    "        crx_occ = occupancy_landscape[\"CRX_F\"]\n",
    "        crx_start_pos = crx_occ[crx_occ].index[0]\n",
    "        if tf_start_pos < crx_start_pos:\n",
    "            silencer_left_counts += 1\n",
    "        elif tf_start_pos > crx_start_pos:\n",
    "            silencer_right_counts += 1\n",
    "\n",
    "silencer_order_counts = pd.Series([silencer_left_counts, silencer_right_counts], index=[\"left\", \"right\"])\n",
    "# Join with strong enhancer counts\n",
    "contingency_table = pd.DataFrame.from_dict({\"Silencer\": silencer_order_counts, \"Strong enhancer\": tf_order_counts.loc[\"NRL\", [\"left\", \"right\"]]}, orient=\"index\").astype(int)\n",
    "display(contingency_table)\n",
    "odds, pval = stats.fisher_exact(contingency_table)\n",
    "print(f\"The linear arrangement of CRX-NRL motifs is independent of whether a sequence is a strong enhancer or silencer, Fisher's exact test p={pval:.2f}, odds ratio={odds:.1f}\")"
   ]
  },
  {
   "cell_type": "markdown",
   "metadata": {},
   "source": [
    "## Analysis of gene expression changes in Crx-/- retina\n",
    "First, read in the RNA-seq data, CPM normalize each replicate, compute mean expression across replicates, and then compute the fold changes between Crx-/- and WT."
   ]
  },
  {
   "cell_type": "code",
   "execution_count": 6,
   "metadata": {},
   "outputs": [],
   "source": [
    "rnaseq_df = pd.read_csv(os.path.join(downloads_dir, \"rogerRnaseqRaw2014.txt\"), sep=\"\\t\", usecols=[\"Wta\", \"Wtb\", \"Crxa\", \"Crxb\"])\n",
    "# Add a pseudocount too when CPM normalizing\n",
    "rnaseq_df = (rnaseq_df + 1) / (rnaseq_df.sum() / 1e6)\n",
    "# Compute averages and then log2 FC\n",
    "ko_wt_fc_log2 = np.log2(rnaseq_df[[\"Crxa\", \"Crxb\"]].mean(axis=1) / rnaseq_df[[\"Wta\", \"Wtb\"]].mean(axis=1))"
   ]
  },
  {
   "cell_type": "markdown",
   "metadata": {},
   "source": [
    "Next, read in a BED file of the library and intersect it with [Supplementary file 4](https://doi.org/10.7554/eLife.48216.022) from Murphy *et al.*, 2019 to associate sequences to genes."
   ]
  },
  {
   "cell_type": "code",
   "execution_count": 7,
   "metadata": {},
   "outputs": [],
   "source": [
    "bed_columns = [\"chrom\", \"begin\", \"end\", \"label\", \"score\", \"strand\"]\n",
    "# Load in BED file\n",
    "library_bed = pd.read_csv(os.path.join(data_dir, \"library1And2.bed\"), sep=\"\\t\", header=None, names=bed_columns)\n",
    "# Pull out sequences that were measured\n",
    "library_bed = library_bed.set_index(\"label\").loc[activity_df.index].reset_index()[bed_columns]\n",
    "library_bed = BedTool.from_dataframe(library_bed).sort()\n",
    "\n",
    "# Read in ATAC data and intersect with the library\n",
    "atac_df = pd.read_excel(os.path.join(downloads_dir, \"murphyAtac2019.xlsx\"), sheet_name=\"peakUnion_counts\", skiprows=1)\n",
    "atac_bed = BedTool.from_dataframe(atac_df[[\"Chr\", \"Start\", \"End\", \"PeakID\"]]).sort()\n",
    "atac_bed = atac_bed.intersect(library_bed, wo=True).to_dataframe()\n",
    "atac_bed = atac_bed[[\"chrom\", \"start\", \"end\", \"name\", \"thickEnd\"]].rename(columns={\"thickEnd\": \"library_label\"})\n",
    "atac_df = atac_df.set_index(\"PeakID\").loc[atac_bed[\"name\"]].reset_index()\n",
    "atac_df[\"library_label\"] = atac_bed[\"library_label\"]"
   ]
  },
  {
   "cell_type": "markdown",
   "metadata": {},
   "source": [
    "Get the gene closest to every library member, and then get the fold change."
   ]
  },
  {
   "cell_type": "code",
   "execution_count": 8,
   "metadata": {},
   "outputs": [],
   "source": [
    "def get_nearest_gene_fc(gene):\n",
    "    if gene in ko_wt_fc_log2.index:\n",
    "        return ko_wt_fc_log2[gene]\n",
    "    else:\n",
    "        return np.nan\n",
    "    \n",
    "library_nearest_gene = atac_df.set_index(\"library_label\")[\"Nearest Gene\"]\n",
    "library_gene_fc = library_nearest_gene.apply(get_nearest_gene_fc)\n",
    "library_gene_fc = library_gene_fc[library_gene_fc.notna()]\n",
    "activity_has_gene_df = activity_df.loc[library_gene_fc.index]"
   ]
  },
  {
   "cell_type": "markdown",
   "metadata": {},
   "source": [
    "Now get genes that have an absolute fold change of 2 (log2 = 1) or more."
   ]
  },
  {
   "cell_type": "code",
   "execution_count": 9,
   "metadata": {},
   "outputs": [],
   "source": [
    "library_gene_de = library_gene_fc[library_gene_fc.abs() >= 1]\n",
    "up_mask = (library_gene_de > 0).replace({False: \"Down-regulated\", True: \"Up-regulated\"})\n",
    "de_direction_grouper = library_gene_de.groupby(up_mask)"
   ]
  },
  {
   "cell_type": "markdown",
   "metadata": {},
   "source": [
    "Determine enrichment of silencers being near up-regulated genes and enhancers being near down-regulated genes."
   ]
  },
  {
   "cell_type": "code",
   "execution_count": 10,
   "metadata": {},
   "outputs": [
    {
     "name": "stdout",
     "output_type": "stream",
     "text": [
      "Direction of differential expression is independent of having a silencer nearby, Fisher's exact test p=0.001, OR=2.13\n"
     ]
    },
    {
     "data": {
      "text/html": [
       "<div>\n",
       "<style scoped>\n",
       "    .dataframe tbody tr th:only-of-type {\n",
       "        vertical-align: middle;\n",
       "    }\n",
       "\n",
       "    .dataframe tbody tr th {\n",
       "        vertical-align: top;\n",
       "    }\n",
       "\n",
       "    .dataframe thead th {\n",
       "        text-align: right;\n",
       "    }\n",
       "</style>\n",
       "<table border=\"1\" class=\"dataframe\">\n",
       "  <thead>\n",
       "    <tr style=\"text-align: right;\">\n",
       "      <th></th>\n",
       "      <th>False</th>\n",
       "      <th>True</th>\n",
       "    </tr>\n",
       "    <tr>\n",
       "      <th>Nearest Gene</th>\n",
       "      <th></th>\n",
       "      <th></th>\n",
       "    </tr>\n",
       "  </thead>\n",
       "  <tbody>\n",
       "    <tr>\n",
       "      <th>Down-regulated</th>\n",
       "      <td>0.866279</td>\n",
       "      <td>0.133721</td>\n",
       "    </tr>\n",
       "    <tr>\n",
       "      <th>Up-regulated</th>\n",
       "      <td>0.752427</td>\n",
       "      <td>0.247573</td>\n",
       "    </tr>\n",
       "  </tbody>\n",
       "</table>\n",
       "</div>"
      ],
      "text/plain": [
       "                   False     True \n",
       "Nearest Gene                      \n",
       "Down-regulated  0.866279  0.133721\n",
       "Up-regulated    0.752427  0.247573"
      ]
     },
     "metadata": {},
     "output_type": "display_data"
    },
    {
     "name": "stdout",
     "output_type": "stream",
     "text": [
      "Direction of differential expression is independent of having an enhancer nearby, Fisher's exact test p=0.022, OR=1.52\n"
     ]
    },
    {
     "data": {
      "text/html": [
       "<div>\n",
       "<style scoped>\n",
       "    .dataframe tbody tr th:only-of-type {\n",
       "        vertical-align: middle;\n",
       "    }\n",
       "\n",
       "    .dataframe tbody tr th {\n",
       "        vertical-align: top;\n",
       "    }\n",
       "\n",
       "    .dataframe thead th {\n",
       "        text-align: right;\n",
       "    }\n",
       "</style>\n",
       "<table border=\"1\" class=\"dataframe\">\n",
       "  <thead>\n",
       "    <tr style=\"text-align: right;\">\n",
       "      <th></th>\n",
       "      <th>True</th>\n",
       "      <th>False</th>\n",
       "    </tr>\n",
       "    <tr>\n",
       "      <th>Nearest Gene</th>\n",
       "      <th></th>\n",
       "      <th></th>\n",
       "    </tr>\n",
       "  </thead>\n",
       "  <tbody>\n",
       "    <tr>\n",
       "      <th>Down-regulated</th>\n",
       "      <td>0.680233</td>\n",
       "      <td>0.319767</td>\n",
       "    </tr>\n",
       "    <tr>\n",
       "      <th>Up-regulated</th>\n",
       "      <td>0.582524</td>\n",
       "      <td>0.417476</td>\n",
       "    </tr>\n",
       "  </tbody>\n",
       "</table>\n",
       "</div>"
      ],
      "text/plain": [
       "                   True      False\n",
       "Nearest Gene                      \n",
       "Down-regulated  0.680233  0.319767\n",
       "Up-regulated    0.582524  0.417476"
      ]
     },
     "metadata": {},
     "output_type": "display_data"
    },
    {
     "data": {
      "text/plain": [
       "Text(0, 0.5, 'Fraction of genes near an enhancer')"
      ]
     },
     "execution_count": 10,
     "metadata": {},
     "output_type": "execute_result"
    },
    {
     "data": {
      "image/png": "[encoded data removed]",
      "text/plain": [
       "<Figure size 288x288 with 1 Axes>"
      ]
     },
     "metadata": {
      "needs_background": "light"
     },
     "output_type": "display_data"
    },
    {
     "data": {
      "image/png": "[encoded data removed]",
      "text/plain": [
       "<Figure size 288x288 with 1 Axes>"
      ]
     },
     "metadata": {
      "needs_background": "light"
     },
     "output_type": "display_data"
    }
   ],
   "source": [
    "# Silencers\n",
    "silencer_count_contingency = de_direction_grouper.apply(lambda x: activity_has_gene_df.loc[x.index, \"group_name_WT\"].str.contains(\"Silencer\").value_counts()).unstack()\n",
    "oddsratio, pval = stats.fisher_exact(silencer_count_contingency)\n",
    "print(f\"Direction of differential expression is independent of having a silencer nearby, Fisher's exact test p={pval:.3f}, OR={oddsratio:.2f}\")\n",
    "\n",
    "silencer_count_contingency = silencer_count_contingency.div(silencer_count_contingency.sum(axis=1), axis=0)\n",
    "display(silencer_count_contingency)\n",
    "fig, ax = plt.subplots()\n",
    "ax.bar([0, 1], silencer_count_contingency[True], tick_label=silencer_count_contingency.index)\n",
    "ax.set_ylabel(\"Fraction of genes near a silencer\")\n",
    "\n",
    "# Enhancers\n",
    "enhancer_count_contingency = de_direction_grouper.apply(lambda x: activity_has_gene_df.loc[x.index, \"group_name_WT\"].str.contains(\"enhancer\").value_counts()).unstack()\n",
    "oddsratio, pval = stats.fisher_exact(enhancer_count_contingency)\n",
    "print(f\"Direction of differential expression is independent of having an enhancer nearby, Fisher's exact test p={pval:.3f}, OR={oddsratio:.2f}\")\n",
    "\n",
    "enhancer_count_contingency = enhancer_count_contingency.div(enhancer_count_contingency.sum(axis=1), axis=0)\n",
    "display(enhancer_count_contingency)\n",
    "fig, ax = plt.subplots()\n",
    "ax.bar([0, 1], enhancer_count_contingency[True], tick_label=enhancer_count_contingency.index)\n",
    "ax.set_ylabel(\"Fraction of genes near an enhancer\")"
   ]
  }
 ],
 "metadata": {
  "kernelspec": {
   "display_name": "Python 3",
   "language": "python",
   "name": "python3"
  },
  "language_info": {
   "codemirror_mode": {
    "name": "ipython",
    "version": 3
   },
   "file_extension": ".py",
   "mimetype": "text/x-python",
   "name": "python",
   "nbconvert_exporter": "python",
   "pygments_lexer": "ipython3",
   "version": "3.6.5"
  }
 },
 "nbformat": 4,
 "nbformat_minor": 2
}
