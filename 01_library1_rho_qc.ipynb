{
 "cells": [
  {
   "cell_type": "markdown",
   "metadata": {},
   "source": [
    "# QC and processing raw barcode counts for Library 1 with the Rho promoter\n",
    "This notebook takes raw barcode counts and processes it into activity scores for each replicate. Then, we do statistics to determine which sequences are significantly different from the Rho promoter alone. There are three biological replicates of RNA and one DNA sample from the input plasmid pool."
   ]
  },
  {
   "cell_type": "code",
   "execution_count": 1,
   "metadata": {},
   "outputs": [],
   "source": [
    "import os\n",
    "import sys\n",
    "\n",
    "import matplotlib.pyplot as plt\n",
    "import numpy as np\n",
    "import pandas as pd\n",
    "from scipy import stats\n",
    "\n",
    "sys.path.insert(0, \"utils\")\n",
    "from utils import modeling, plot_utils, quality_control"
   ]
  },
  {
   "cell_type": "code",
   "execution_count": 2,
   "metadata": {},
   "outputs": [],
   "source": [
    "plot_utils.set_manuscript_params()"
   ]
  },
  {
   "cell_type": "markdown",
   "metadata": {},
   "source": [
    "## Load in data"
   ]
  },
  {
   "cell_type": "code",
   "execution_count": 3,
   "metadata": {},
   "outputs": [
    {
     "data": {
      "text/html": [
       "<div>\n",
       "<style scoped>\n",
       "    .dataframe tbody tr th:only-of-type {\n",
       "        vertical-align: middle;\n",
       "    }\n",
       "\n",
       "    .dataframe tbody tr th {\n",
       "        vertical-align: top;\n",
       "    }\n",
       "\n",
       "    .dataframe thead th {\n",
       "        text-align: right;\n",
       "    }\n",
       "</style>\n",
       "<table border=\"1\" class=\"dataframe\">\n",
       "  <thead>\n",
       "    <tr style=\"text-align: right;\">\n",
       "      <th></th>\n",
       "      <th>label</th>\n",
       "      <th>DNA</th>\n",
       "      <th>RNA1</th>\n",
       "      <th>RNA2</th>\n",
       "      <th>RNA3</th>\n",
       "    </tr>\n",
       "    <tr>\n",
       "      <th>barcode</th>\n",
       "      <th></th>\n",
       "      <th></th>\n",
       "      <th></th>\n",
       "      <th></th>\n",
       "      <th></th>\n",
       "    </tr>\n",
       "  </thead>\n",
       "  <tbody>\n",
       "    <tr>\n",
       "      <th>AACAACAAG</th>\n",
       "      <td>chr16-87432635-87432799_CPPQ_scrambled</td>\n",
       "      <td>3019</td>\n",
       "      <td>148</td>\n",
       "      <td>325</td>\n",
       "      <td>97</td>\n",
       "    </tr>\n",
       "    <tr>\n",
       "      <th>AACAACCGC</th>\n",
       "      <td>chr4-119112319-119112483_CPPE_WT</td>\n",
       "      <td>4117</td>\n",
       "      <td>24493</td>\n",
       "      <td>25950</td>\n",
       "      <td>23406</td>\n",
       "    </tr>\n",
       "    <tr>\n",
       "      <th>AACAACGGG</th>\n",
       "      <td>chr7-128854234-128854398_UPCE_WT</td>\n",
       "      <td>86</td>\n",
       "      <td>76</td>\n",
       "      <td>39</td>\n",
       "      <td>233</td>\n",
       "    </tr>\n",
       "    <tr>\n",
       "      <th>AACAACTAC</th>\n",
       "      <td>chr4-138107597-138107761_UPPE_WT</td>\n",
       "      <td>827</td>\n",
       "      <td>926</td>\n",
       "      <td>857</td>\n",
       "      <td>659</td>\n",
       "    </tr>\n",
       "    <tr>\n",
       "      <th>AACAACTGT</th>\n",
       "      <td>chr5-31298508-31298672_CPPE_WT</td>\n",
       "      <td>7170</td>\n",
       "      <td>492</td>\n",
       "      <td>392</td>\n",
       "      <td>149</td>\n",
       "    </tr>\n",
       "    <tr>\n",
       "      <th>AACAAGCGG</th>\n",
       "      <td>chr16-37868024-37868188_UPPP_MUT-allCrxSites</td>\n",
       "      <td>1199</td>\n",
       "      <td>98</td>\n",
       "      <td>147</td>\n",
       "      <td>206</td>\n",
       "    </tr>\n",
       "    <tr>\n",
       "      <th>AACAAGGAC</th>\n",
       "      <td>chr9-72409911-72410075_CBPE_MUT-shape</td>\n",
       "      <td>909</td>\n",
       "      <td>1920</td>\n",
       "      <td>1107</td>\n",
       "      <td>995</td>\n",
       "    </tr>\n",
       "    <tr>\n",
       "      <th>AACAAGGCG</th>\n",
       "      <td>chr8-70212225-70212389_CPPP_MUT-allCrxSites</td>\n",
       "      <td>98</td>\n",
       "      <td>33</td>\n",
       "      <td>43</td>\n",
       "      <td>19</td>\n",
       "    </tr>\n",
       "    <tr>\n",
       "      <th>AACAAGTAG</th>\n",
       "      <td>chr15-72652217-72652381_CPPE_WT</td>\n",
       "      <td>1851</td>\n",
       "      <td>2557</td>\n",
       "      <td>3203</td>\n",
       "      <td>2688</td>\n",
       "    </tr>\n",
       "    <tr>\n",
       "      <th>AACAAGTCT</th>\n",
       "      <td>chr2-104122476-104122640_CBPE_WT</td>\n",
       "      <td>305</td>\n",
       "      <td>386</td>\n",
       "      <td>357</td>\n",
       "      <td>204</td>\n",
       "    </tr>\n",
       "    <tr>\n",
       "      <th>AACAATACC</th>\n",
       "      <td>chr2-5669535-5669699_CPPE_WT</td>\n",
       "      <td>518</td>\n",
       "      <td>1</td>\n",
       "      <td>1</td>\n",
       "      <td>5</td>\n",
       "    </tr>\n",
       "    <tr>\n",
       "      <th>AACAATAGG</th>\n",
       "      <td>chr9-102717090-102717254_UPPP_MUT-allCrxSites</td>\n",
       "      <td>3577</td>\n",
       "      <td>1750</td>\n",
       "      <td>1563</td>\n",
       "      <td>2113</td>\n",
       "    </tr>\n",
       "    <tr>\n",
       "      <th>AACAATCAC</th>\n",
       "      <td>chr17-34197537-34197701_CPPQ_MUT-allCrxSites</td>\n",
       "      <td>1627</td>\n",
       "      <td>282</td>\n",
       "      <td>52</td>\n",
       "      <td>30</td>\n",
       "    </tr>\n",
       "    <tr>\n",
       "      <th>AACAATGAG</th>\n",
       "      <td>chr4-44576957-44577121_UPPE_WT</td>\n",
       "      <td>7030</td>\n",
       "      <td>2706</td>\n",
       "      <td>3000</td>\n",
       "      <td>2267</td>\n",
       "    </tr>\n",
       "    <tr>\n",
       "      <th>AACAATGCT</th>\n",
       "      <td>chr17-74221859-74222023_CPPE_WT</td>\n",
       "      <td>2481</td>\n",
       "      <td>1418</td>\n",
       "      <td>1722</td>\n",
       "      <td>1725</td>\n",
       "    </tr>\n",
       "    <tr>\n",
       "      <th>AACAATGTC</th>\n",
       "      <td>chr11-3422348-3422512_CPRE_MUT-allCrxSites</td>\n",
       "      <td>2912</td>\n",
       "      <td>4651</td>\n",
       "      <td>3679</td>\n",
       "      <td>5035</td>\n",
       "    </tr>\n",
       "    <tr>\n",
       "      <th>AACAATTCA</th>\n",
       "      <td>chr2-164427118-164427282_CPPE_MUT-allCrxSites</td>\n",
       "      <td>2296</td>\n",
       "      <td>2218</td>\n",
       "      <td>2237</td>\n",
       "      <td>1850</td>\n",
       "    </tr>\n",
       "    <tr>\n",
       "      <th>AACACACAT</th>\n",
       "      <td>BASAL</td>\n",
       "      <td>6067</td>\n",
       "      <td>926</td>\n",
       "      <td>1183</td>\n",
       "      <td>697</td>\n",
       "    </tr>\n",
       "    <tr>\n",
       "      <th>AACACAGCC</th>\n",
       "      <td>chr10-61695319-61695483_CPPP_MUT-allCrxSites</td>\n",
       "      <td>195</td>\n",
       "      <td>22</td>\n",
       "      <td>0</td>\n",
       "      <td>36</td>\n",
       "    </tr>\n",
       "    <tr>\n",
       "      <th>AACACAGGG</th>\n",
       "      <td>chr12-83444664-83444828_CPPE_MUT-allCrxSites</td>\n",
       "      <td>1680</td>\n",
       "      <td>1700</td>\n",
       "      <td>1539</td>\n",
       "      <td>1886</td>\n",
       "    </tr>\n",
       "  </tbody>\n",
       "</table>\n",
       "</div>"
      ],
      "text/plain": [
       "                                                   label   DNA   RNA1   RNA2  \\\n",
       "barcode                                                                        \n",
       "AACAACAAG         chr16-87432635-87432799_CPPQ_scrambled  3019    148    325   \n",
       "AACAACCGC               chr4-119112319-119112483_CPPE_WT  4117  24493  25950   \n",
       "AACAACGGG               chr7-128854234-128854398_UPCE_WT    86     76     39   \n",
       "AACAACTAC               chr4-138107597-138107761_UPPE_WT   827    926    857   \n",
       "AACAACTGT                 chr5-31298508-31298672_CPPE_WT  7170    492    392   \n",
       "AACAAGCGG   chr16-37868024-37868188_UPPP_MUT-allCrxSites  1199     98    147   \n",
       "AACAAGGAC          chr9-72409911-72410075_CBPE_MUT-shape   909   1920   1107   \n",
       "AACAAGGCG    chr8-70212225-70212389_CPPP_MUT-allCrxSites    98     33     43   \n",
       "AACAAGTAG                chr15-72652217-72652381_CPPE_WT  1851   2557   3203   \n",
       "AACAAGTCT               chr2-104122476-104122640_CBPE_WT   305    386    357   \n",
       "AACAATACC                   chr2-5669535-5669699_CPPE_WT   518      1      1   \n",
       "AACAATAGG  chr9-102717090-102717254_UPPP_MUT-allCrxSites  3577   1750   1563   \n",
       "AACAATCAC   chr17-34197537-34197701_CPPQ_MUT-allCrxSites  1627    282     52   \n",
       "AACAATGAG                 chr4-44576957-44577121_UPPE_WT  7030   2706   3000   \n",
       "AACAATGCT                chr17-74221859-74222023_CPPE_WT  2481   1418   1722   \n",
       "AACAATGTC     chr11-3422348-3422512_CPRE_MUT-allCrxSites  2912   4651   3679   \n",
       "AACAATTCA  chr2-164427118-164427282_CPPE_MUT-allCrxSites  2296   2218   2237   \n",
       "AACACACAT                                          BASAL  6067    926   1183   \n",
       "AACACAGCC   chr10-61695319-61695483_CPPP_MUT-allCrxSites   195     22      0   \n",
       "AACACAGGG   chr12-83444664-83444828_CPPE_MUT-allCrxSites  1680   1700   1539   \n",
       "\n",
       "            RNA3  \n",
       "barcode           \n",
       "AACAACAAG     97  \n",
       "AACAACCGC  23406  \n",
       "AACAACGGG    233  \n",
       "AACAACTAC    659  \n",
       "AACAACTGT    149  \n",
       "AACAAGCGG    206  \n",
       "AACAAGGAC    995  \n",
       "AACAAGGCG     19  \n",
       "AACAAGTAG   2688  \n",
       "AACAAGTCT    204  \n",
       "AACAATACC      5  \n",
       "AACAATAGG   2113  \n",
       "AACAATCAC     30  \n",
       "AACAATGAG   2267  \n",
       "AACAATGCT   1725  \n",
       "AACAATGTC   5035  \n",
       "AACAATTCA   1850  \n",
       "AACACACAT    697  \n",
       "AACACAGCC     36  \n",
       "AACACAGGG   1886  "
      ]
     },
     "execution_count": 3,
     "metadata": {},
     "output_type": "execute_result"
    }
   ],
   "source": [
    "# File names\n",
    "barcode_count_dir = os.path.join(os.getcwd(), \"Data\", \"Rhodopsin\")\n",
    "barcode_count_files = [\"library1Plasmid.counts\", \"library1Rna1.counts\",\n",
    "                      \"library1Rna2.counts\", \"library1Rna3.counts\"]\n",
    "barcode_count_files = [os.path.join(barcode_count_dir, i) for i in barcode_count_files]\n",
    "\n",
    "# Stuff for downstream functions\n",
    "sample_labels = np.array([\"DNA\", \"RNA1\", \"RNA2\", \"RNA3\"])\n",
    "sample_rna_mask = np.array([False, True, True, True])\n",
    "rna_labels = sample_labels[sample_rna_mask]\n",
    "dna_labels = sample_labels[np.logical_not(sample_rna_mask)]\n",
    "n_samples = len(sample_labels)\n",
    "n_rna_samples = len(rna_labels)\n",
    "n_dna_samples = len(dna_labels)\n",
    "\n",
    "n_barcodes_per_sequence = 3\n",
    "results_dir = barcode_count_dir\n",
    "output_prefix = os.path.join(results_dir, \"library1\")\n",
    "\n",
    "all_sample_counts_df = quality_control.read_bc_count_files(barcode_count_files, sample_labels)\n",
    "all_sample_counts_df.to_csv(f\"{output_prefix}RawBarcodeCounts.txt\", sep=\"\\t\", na_rep=\"NaN\")\n",
    "all_sample_counts_df.head(20)"
   ]
  },
  {
   "cell_type": "markdown",
   "metadata": {},
   "source": [
    "## Threshold barcode counts, assess reproducibility\n",
    "Set barcodes that are below the DNA cutoff to an NaN (because they are missing from the input plasmid pool) and those that are below any of the RNA cutoffs to zero in all replicates."
   ]
  },
  {
   "cell_type": "code",
   "execution_count": 4,
   "metadata": {},
   "outputs": [
    {
     "name": "stdout",
     "output_type": "stream",
     "text": [
      "Barcodes missing in DNA:\n",
      "Sample DNA: 1090 barcodes\n",
      "1090 barcodes are missing from more than 0 DNA samples.\n",
      "Barcodes off in RNA:\n",
      "Sample RNA1: 1744 barcodes\n",
      "Sample RNA2: 1913 barcodes\n",
      "Sample RNA3: 1491 barcodes\n",
      "2215 barcodes are off in more than 0 RNA samples.\n",
      "There are a total of  157.151 million barcode counts.\n"
     ]
    },
    {
     "data": {
      "image/png": "[encoded data removed]",
      "text/plain": [
       "<Figure size 288x288 with 1 Axes>"
      ]
     },
     "metadata": {
      "needs_background": "light"
     },
     "output_type": "display_data"
    },
    {
     "data": {
      "image/png": "[encoded data removed]",
      "text/plain": [
       "<Figure size 288x288 with 1 Axes>"
      ]
     },
     "metadata": {
      "needs_background": "light"
     },
     "output_type": "display_data"
    },
    {
     "data": {
      "image/png": "[encoded data removed]",
      "text/plain": [
       "<Figure size 864x864 with 9 Axes>"
      ]
     },
     "metadata": {
      "needs_background": "light"
     },
     "output_type": "display_data"
    }
   ],
   "source": [
    "cutoffs = [10, 5, 5, 5]\n",
    "threshold_sample_counts_df = quality_control.filter_low_counts(all_sample_counts_df, sample_labels, cutoffs,\n",
    "                                                               dna_labels=dna_labels, bc_per_seq=n_barcodes_per_sequence)\n",
    "fig = quality_control.reproducibility_plots(threshold_sample_counts_df, rna_labels, \"CPM\", big_dimensions=True)\n",
    "plot_utils.save_fig(fig, f\"{output_prefix}Reproducibility\", timestamp=False)"
   ]
  },
  {
   "cell_type": "markdown",
   "metadata": {},
   "source": [
    "## Normalize RNA barcode counts by plasmid barcode counts"
   ]
  },
  {
   "cell_type": "code",
   "execution_count": 5,
   "metadata": {},
   "outputs": [],
   "source": [
    "normalized_sample_counts_df = quality_control.normalize_rna_by_dna(threshold_sample_counts_df, rna_labels, dna_labels)\n",
    "# Drop DNA\n",
    "barcode_sample_counts_df = normalized_sample_counts_df.drop(columns=dna_labels)"
   ]
  },
  {
   "cell_type": "markdown",
   "metadata": {},
   "source": [
    "## Compute expression across replicates"
   ]
  },
  {
   "cell_type": "code",
   "execution_count": 6,
   "metadata": {},
   "outputs": [],
   "source": [
    "activity_replicate_df = quality_control.average_barcodes(barcode_sample_counts_df)\n",
    "activity_replicate_df.to_csv(f\"{output_prefix}ReplicateExpression.txt\", sep=\"\\t\", na_rep=\"NaN\")"
   ]
  },
  {
   "cell_type": "markdown",
   "metadata": {},
   "source": [
    "## Normalize to basal, average across replicates, do statistics"
   ]
  },
  {
   "cell_type": "code",
   "execution_count": 7,
   "metadata": {},
   "outputs": [
    {
     "name": "stderr",
     "output_type": "stream",
     "text": [
      "/home/ryan/Documents/DBBS/CohenLab/Manuscripts/CRX-Information-Content/utils/quality_control.py:408: RuntimeWarning: invalid value encountered in double_scalars\n",
      "  cov = std / mean\n"
     ]
    }
   ],
   "source": [
    "sequence_expression_df = quality_control.basal_normalize(activity_replicate_df, \"BASAL\")\n",
    "# Compare vs. basal\n",
    "sequence_expression_df[\"expression_pvalue\"] = quality_control.log_ttest_vs_basal(activity_replicate_df, \"BASAL\")\n",
    "sequence_expression_df[\"expression_qvalue\"] = modeling.fdr(sequence_expression_df[\"expression_pvalue\"])\n",
    "\n",
    "# Save to file\n",
    "sequence_expression_df.to_csv(f\"{output_prefix}TotalExpressionSummary.txt\", sep=\"\\t\", na_rep=\"NaN\")"
   ]
  }
 ],
 "metadata": {
  "kernelspec": {
   "display_name": "Python 3",
   "language": "python",
   "name": "python3"
  },
  "language_info": {
   "codemirror_mode": {
    "name": "ipython",
    "version": 3
   },
   "file_extension": ".py",
   "mimetype": "text/x-python",
   "name": "python",
   "nbconvert_exporter": "python",
   "pygments_lexer": "ipython3",
   "version": "3.6.5"
  }
 },
 "nbformat": 4,
 "nbformat_minor": 2
}
